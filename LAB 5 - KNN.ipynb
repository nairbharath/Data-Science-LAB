{
  "metadata": {
    "language_info": {
      "codemirror_mode": {
        "name": "python",
        "version": 3
      },
      "file_extension": ".py",
      "mimetype": "text/x-python",
      "name": "python",
      "nbconvert_exporter": "python",
      "pygments_lexer": "ipython3",
      "version": "3.8"
    },
    "kernelspec": {
      "name": "python",
      "display_name": "Python (Pyodide)",
      "language": "python"
    }
  },
  "nbformat_minor": 4,
  "nbformat": 4,
  "cells": [
    {
      "cell_type": "code",
      "source": "from sklearn.datasets import load_iris\nfrom sklearn.model_selection import train_test_split\nfrom sklearn.neighbors import KNeighborsClassifier\nfrom sklearn import metrics",
      "metadata": {
        "trusted": true
      },
      "execution_count": 1,
      "outputs": []
    },
    {
      "cell_type": "code",
      "source": "iris = load_iris()\nx = iris.data\ny = iris.target\nx_train,x_test,y_train,y_test = train_test_split(x,y,test_size=0.3,random_state=4)\nc_knn = KNeighborsClassifier(n_neighbors=3)\nc_knn.fit(x_train,y_train)\ny_pred = c_knn.predict(x_test)\nprint(\"Accuracy : \",metrics.accuracy_score(y_test,y_pred))\nsample = [[20,2,20,2]]\npred = c_knn.predict(sample)\npred_v = [iris.target_names[p] for p in pred]\nprint(pred_v)\n\n",
      "metadata": {
        "trusted": true
      },
      "execution_count": 7,
      "outputs": [
        {
          "name": "stdout",
          "text": "Accuracy :  0.9777777777777777\n['virginica']\n",
          "output_type": "stream"
        }
      ]
    },
    {
      "cell_type": "code",
      "source": "",
      "metadata": {},
      "execution_count": null,
      "outputs": []
    }
  ]
}