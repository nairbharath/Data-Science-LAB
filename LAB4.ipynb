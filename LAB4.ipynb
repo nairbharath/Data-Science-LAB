{
 "cells": [
  {
   "cell_type": "code",
   "execution_count": 1,
   "id": "f8162658-431f-4936-ae5a-84045d9b01cc",
   "metadata": {},
   "outputs": [],
   "source": [
    "import pandas as pd\n"
   ]
  },
  {
   "cell_type": "code",
   "execution_count": null,
   "id": "3e9b192e-341e-4e11-beaf-6d6c5950c950",
   "metadata": {},
   "outputs": [],
   "source": [
    "#1.List to series conversions"
   ]
  },
  {
   "cell_type": "code",
   "execution_count": 9,
   "id": "51292686-4265-47b0-9ee8-3287e29ac9c4",
   "metadata": {},
   "outputs": [
    {
     "name": "stdout",
     "output_type": "stream",
     "text": [
      "1          yo\n",
      "2        yolo\n",
      "3    yoloheim\n",
      "4      yoreka\n",
      "dtype: object\n"
     ]
    }
   ],
   "source": [
    "a=[\"yo\",\"yolo\",\"yoloheim\",\"yoreka\"]\n",
    "print(pd.Series(a,index=[1,2,3,4]))\n"
   ]
  },
  {
   "cell_type": "code",
   "execution_count": 10,
   "id": "7e5879e7-5001-440e-909d-cc69edf98c07",
   "metadata": {},
   "outputs": [
    {
     "name": "stdout",
     "output_type": "stream",
     "text": [
      "1          yo\n",
      "2        yolo\n",
      "3    yoloheim\n",
      "4      yoreka\n",
      "dtype: object\n"
     ]
    }
   ],
   "source": [
    "#or\n",
    "a=[\"yo\",\"yolo\",\"yoloheim\",\"yoreka\"]\n",
    "ind=[1,2,3,4]\n",
    "print(pd.Series(a,index=ind))"
   ]
  },
  {
   "cell_type": "code",
   "execution_count": 21,
   "id": "6090f3b7-9fdd-44e9-9002-8d475bd66375",
   "metadata": {},
   "outputs": [
    {
     "name": "stdout",
     "output_type": "stream",
     "text": [
      "0    2021-05-01\n",
      "1    2021-05-02\n",
      "2    2021-05-03\n",
      "3    2021-05-04\n",
      "4    2021-05-05\n",
      "5    2021-05-06\n",
      "6    2021-05-07\n",
      "7    2021-05-08\n",
      "8    2021-05-09\n",
      "9    2021-05-10\n",
      "10   2021-05-11\n",
      "11   2021-05-12\n",
      "dtype: datetime64[ns]\n"
     ]
    }
   ],
   "source": [
    "#2.generate series of dates from May1 to 12th May 2021, both inclusive\n",
    "#mm-dd-yyyy\n",
    "dates=pd.date_range(start=\"2021-05-01\",end=\"2021-05-12\",freq='d')\n",
    "print(pd.Series(dates,))"
   ]
  },
  {
   "cell_type": "code",
   "execution_count": 23,
   "id": "cc6c02a0-902a-4cb6-92fd-b89e40aefba7",
   "metadata": {},
   "outputs": [
    {
     "name": "stdout",
     "output_type": "stream",
     "text": [
      "      calories  duration  type\n",
      "day1       619        50  legs\n",
      "day2       420        40  arms\n",
      "day3       456        45  toes\n"
     ]
    }
   ],
   "source": [
    "#Convert a dictionary unto dataframe and display it\n",
    "data={\n",
    "\"calories\":[619,420,456],\n",
    "\"duration\":[50,40,45],\n",
    "\"type\":[\"legs\",\"arms\",\"toes\"]\n",
    "}\n",
    "b=pd.DataFrame(data,index=[\"day1\",\"day2\",\"day3\"])\n",
    "print(b)\n"
   ]
  },
  {
   "cell_type": "code",
   "execution_count": 25,
   "id": "e750749b-1775-4ef9-910c-d1603a859b4b",
   "metadata": {},
   "outputs": [
    {
     "name": "stdout",
     "output_type": "stream",
     "text": [
      "      Name Address Class     Marks\n",
      "100  Name1    Add1    S3  2000.000\n",
      "101  Name2    Add2    S1  1000.000\n",
      "102  Name3    Add3    S5     0.001\n",
      "103  Name4    Add4    S2     2.000\n"
     ]
    }
   ],
   "source": [
    "# 2D list to dataframe\n",
    "\n",
    "data=[\n",
    "['Name1','Add1','S3',2000],\n",
    "['Name2','Add2','S1',1000],\n",
    "['Name3','Add3','S5',0.001],\n",
    "['Name4','Add4','S2',2],\n",
    "]\n",
    "    \n",
    "b=pd.DataFrame(data, columns=['Name','Address','Class','Marks'], index=[100,101,102,103])\n",
    "print(b)"
   ]
  },
  {
   "cell_type": "code",
   "execution_count": null,
   "id": "1a5c2053-ba73-4897-a980-86c357c0222c",
   "metadata": {},
   "outputs": [],
   "source": []
  }
 ],
 "metadata": {
  "kernelspec": {
   "display_name": "Python 3 (ipykernel)",
   "language": "python",
   "name": "python3"
  },
  "language_info": {
   "codemirror_mode": {
    "name": "ipython",
    "version": 3
   },
   "file_extension": ".py",
   "mimetype": "text/x-python",
   "name": "python",
   "nbconvert_exporter": "python",
   "pygments_lexer": "ipython3",
   "version": "3.10.4"
  }
 },
 "nbformat": 4,
 "nbformat_minor": 5
}
