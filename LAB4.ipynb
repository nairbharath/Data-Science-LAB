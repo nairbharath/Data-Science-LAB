{
 "cells": [
  {
   "cell_type": "code",
   "execution_count": 3,
   "id": "f8162658-431f-4936-ae5a-84045d9b01cc",
   "metadata": {},
   "outputs": [],
   "source": [
    "import pandas as pd\n"
   ]
  },
  {
   "cell_type": "code",
   "execution_count": null,
   "id": "3e9b192e-341e-4e11-beaf-6d6c5950c950",
   "metadata": {},
   "outputs": [],
   "source": [
    "#1.List to series conversions"
   ]
  },
  {
   "cell_type": "code",
   "execution_count": 9,
   "id": "51292686-4265-47b0-9ee8-3287e29ac9c4",
   "metadata": {},
   "outputs": [
    {
     "name": "stdout",
     "output_type": "stream",
     "text": [
      "1          yo\n",
      "2        yolo\n",
      "3    yoloheim\n",
      "4      yoreka\n",
      "dtype: object\n"
     ]
    }
   ],
   "source": [
    "a=[\"yo\",\"yolo\",\"yoloheim\",\"yoreka\"]\n",
    "print(pd.Series(a,index=[1,2,3,4]))\n"
   ]
  },
  {
   "cell_type": "code",
   "execution_count": 10,
   "id": "7e5879e7-5001-440e-909d-cc69edf98c07",
   "metadata": {},
   "outputs": [
    {
     "name": "stdout",
     "output_type": "stream",
     "text": [
      "1          yo\n",
      "2        yolo\n",
      "3    yoloheim\n",
      "4      yoreka\n",
      "dtype: object\n"
     ]
    }
   ],
   "source": [
    "#or\n",
    "a=[\"yo\",\"yolo\",\"yoloheim\",\"yoreka\"]\n",
    "ind=[1,2,3,4]\n",
    "print(pd.Series(a,index=ind))"
   ]
  },
  {
   "cell_type": "code",
   "execution_count": 11,
   "id": "6090f3b7-9fdd-44e9-9002-8d475bd66375",
   "metadata": {},
   "outputs": [
    {
     "name": "stdout",
     "output_type": "stream",
     "text": [
      "0    2021-05-01\n",
      "1    2021-05-02\n",
      "2    2021-05-03\n",
      "3    2021-05-04\n",
      "4    2021-05-05\n",
      "5    2021-05-06\n",
      "6    2021-05-07\n",
      "7    2021-05-08\n",
      "8    2021-05-09\n",
      "9    2021-05-10\n",
      "10   2021-05-11\n",
      "11   2021-05-12\n",
      "dtype: datetime64[ns]\n"
     ]
    }
   ],
   "source": [
    "#2.generate series of dates from May1 to 12th May 2021, both inclusive\n",
    "#mm-dd-yyyy\n",
    "dates=pd.date_range(start=\"2021-05-01\",end=\"2021-05-12\",freq='d')\n",
    "print(pd.Series(dates))"
   ]
  },
  {
   "cell_type": "code",
   "execution_count": 23,
   "id": "cc6c02a0-902a-4cb6-92fd-b89e40aefba7",
   "metadata": {},
   "outputs": [
    {
     "name": "stdout",
     "output_type": "stream",
     "text": [
      "      calories  duration  type\n",
      "day1       619        50  legs\n",
      "day2       420        40  arms\n",
      "day3       456        45  toes\n"
     ]
    }
   ],
   "source": [
    "#3.Convert a dictionary into dataframe and display it\n",
    "data={\n",
    "\"calories\":[619,420,456],\n",
    "\"duration\":[50,40,45],\n",
    "\"type\":[\"legs\",\"arms\",\"toes\"]\n",
    "}\n",
    "b=pd.DataFrame(data,index=[\"day1\",\"day2\",\"day3\"])\n",
    "print(b)\n"
   ]
  },
  {
   "cell_type": "code",
   "execution_count": 25,
   "id": "e750749b-1775-4ef9-910c-d1603a859b4b",
   "metadata": {},
   "outputs": [
    {
     "name": "stdout",
     "output_type": "stream",
     "text": [
      "      Name Address Class     Marks\n",
      "100  Name1    Add1    S3  2000.000\n",
      "101  Name2    Add2    S1  1000.000\n",
      "102  Name3    Add3    S5     0.001\n",
      "103  Name4    Add4    S2     2.000\n"
     ]
    }
   ],
   "source": [
    "# 4. 2D list to dataframe\n",
    "\n",
    "data=[\n",
    "['Name1','Add1','S3',2000],\n",
    "['Name2','Add2','S1',1000],\n",
    "['Name3','Add3','S5',0.001],\n",
    "['Name4','Add4','S2',2],\n",
    "]\n",
    "    \n",
    "b=pd.DataFrame(data, columns=['Name','Address','Class','Marks'], index=[100,101,102,103])\n",
    "print(b)"
   ]
  },
  {
   "cell_type": "code",
   "execution_count": 46,
   "id": "1a5c2053-ba73-4897-a980-86c357c0222c",
   "metadata": {},
   "outputs": [
    {
     "name": "stdout",
     "output_type": "stream",
     "text": [
      "       Name  Class  Marks\n",
      "SNo                      \n",
      "1     Name1    MCA   80.0\n",
      "1     Name2  Btech   90.0\n",
      "11    Name3  BArch  100.0\n",
      "8     Name4    Bsc   60.0\n",
      "6    Billu6  MTech   75.7\n"
     ]
    }
   ],
   "source": [
    "#5.Read csv into dataframe and display\n",
    "\n",
    "df=pd.read_csv('data1.csv',index_col=False)\n",
    "print(df.set_index('SNo'))"
   ]
  },
  {
   "cell_type": "code",
   "execution_count": 49,
   "id": "6703a3cf-7e67-455e-935b-7101245b367b",
   "metadata": {},
   "outputs": [
    {
     "name": "stdout",
     "output_type": "stream",
     "text": [
      "       Name  Class  Marks\n",
      "SNo                      \n",
      "1     Name1    MCA   80.0\n",
      "1     Name2  Btech   90.0\n",
      "6    Billu6  MTech   75.7\n",
      "8     Name4    Bsc   60.0\n",
      "11    Name3  BArch  100.0\n"
     ]
    }
   ],
   "source": [
    "#6.Sort dataframe by multiple columns\n",
    "\n",
    "df=pd.read_csv('data1.csv')\n",
    "df_sorted=df.sort_values(by = ['SNo','Marks']).set_index('SNo')\n",
    "print(df_sorted)"
   ]
  },
  {
   "cell_type": "code",
   "execution_count": 51,
   "id": "4c22fa3b-5255-4621-b9cb-392e1145e14b",
   "metadata": {},
   "outputs": [
    {
     "name": "stdout",
     "output_type": "stream",
     "text": [
      "   SNo    Name  Class  Marks\n",
      "0    1   Name1    MCA   80.0\n",
      "1    1   Name2  Btech   90.0\n",
      "2    6  Billu6  MTech   75.7\n",
      "3    8   Name4    Bsc   60.0\n",
      "4   11   Name3  BArch  100.0\n"
     ]
    }
   ],
   "source": [
    "#7. Convert custom indexes to default indexes\n",
    "\n",
    "print(df_sorted.reset_index())\n"
   ]
  },
  {
   "cell_type": "code",
   "execution_count": 57,
   "id": "713bc430-d406-4730-83a2-731864dd6762",
   "metadata": {},
   "outputs": [
    {
     "name": "stdout",
     "output_type": "stream",
     "text": [
      "   SNo    Name  Class  Marks\n",
      "0    1   Name1    MCA   80.0\n",
      "1    1   Name2  Btech   90.0\n",
      "2   11   Name3  BArch  100.0\n",
      "3    8   Name4    Bsc   60.0\n",
      "4    6  Billu6  MTech   75.7\n",
      "Rows 1 and 2 are: \n",
      "    SNo   Name  Class  Marks\n",
      "0    1  Name1    MCA   80.0\n",
      "1    1  Name2  Btech   90.0\n"
     ]
    }
   ],
   "source": [
    "#8. Print first 2 rows in dataframe\n",
    "\n",
    "print(df)\n",
    "rows12=(df.iloc[[0,1],:])\n",
    "print(\"Rows 1 and 2 are: \\n\",rows12)"
   ]
  },
  {
   "cell_type": "code",
   "execution_count": 75,
   "id": "939d2de2-f943-49da-afa1-73f91e9be487",
   "metadata": {},
   "outputs": [
    {
     "name": "stdout",
     "output_type": "stream",
     "text": [
      "   SNo   Name Occupation  Salary\n",
      "0  100  Name1     Doctor   50000\n",
      "1  101  Name2       Engg   60000\n",
      "2  102  Name3    Teacher   70000\n",
      "3  104  Name4  Astronaut      10\n",
      "4  105  Name5    Teacher   30000\n",
      "5  106  Name6     Doctor   70000\n",
      "6  107  Name7       Engg   45000\n",
      "7  108  Name8     Doctor   55000\n",
      "\n",
      "Occupation\n",
      "Astronaut       10.000000\n",
      "Doctor       58333.333333\n",
      "Engg         52500.000000\n",
      "Teacher      50000.000000\n",
      "Name: Salary, dtype: float64\n"
     ]
    }
   ],
   "source": [
    "#9. Average salary per occupation\n",
    "\n",
    "data=[\n",
    "[100,'Name1','Doctor',50000],\n",
    "[101,'Name2','Engg',60000],\n",
    "[102,'Name3','Teacher',70000],\n",
    "[104,'Name4','Astronaut',10],\n",
    "[105,'Name5','Teacher',30000],\n",
    "[106,'Name6','Doctor',70000],\n",
    "[107,'Name7','Engg',45000],\n",
    "[108,'Name8','Doctor',55000]\n",
    "]\n",
    "df_original=pd.DataFrame(data,columns=['SNo','Name','Occupation','Salary'])\n",
    "print(df_original)\n",
    "\n",
    "print()\n",
    "\n",
    "print(df_original.groupby('Occupation')['Salary'].mean())\n",
    "\n",
    "\n"
   ]
  },
  {
   "cell_type": "code",
   "execution_count": 85,
   "id": "86076bdb-ea20-48b4-85e1-79ece704ac02",
   "metadata": {},
   "outputs": [
    {
     "name": "stdout",
     "output_type": "stream",
     "text": [
      "   SNo   Name Occupation   Salary\n",
      "0  100  Name1     Doctor  50000.0\n",
      "1  101  Name2       Engg      NaN\n",
      "2  102  Name3    Teacher  70000.0\n",
      "3  104  Name4  Astronaut      NaN\n",
      "4  105  Name5    Teacher  30000.0\n",
      "5  106  Name6     Doctor  70000.0\n",
      "6  107  Name7       Engg  45000.0\n",
      "7  108  Name8     Doctor      NaN\n",
      "\n",
      "   SNo   Name Occupation   Salary\n",
      "0  100  Name1     Doctor  50000.0\n",
      "1  101  Name2       Engg      0.0\n",
      "2  102  Name3    Teacher  70000.0\n",
      "3  104  Name4  Astronaut      0.0\n",
      "4  105  Name5    Teacher  30000.0\n",
      "5  106  Name6     Doctor  70000.0\n",
      "6  107  Name7       Engg  45000.0\n",
      "7  108  Name8     Doctor      0.0\n"
     ]
    }
   ],
   "source": [
    "#10. Given a datafram with NaN values, fill the NaN values with 0.\n",
    "import numpy as np\n",
    "\n",
    "data=[\n",
    "[100,'Name1','Doctor',50000],\n",
    "[101,'Name2','Engg',np.nan],\n",
    "[102,'Name3','Teacher',70000],\n",
    "[104,'Name4','Astronaut',np.nan],\n",
    "[105,'Name5','Teacher',30000],\n",
    "[106,'Name6','Doctor',70000],\n",
    "[107,'Name7','Engg',45000],\n",
    "[108,'Name8','Doctor',np.nan]\n",
    "]\n",
    "\n",
    "print(pd.DataFrame(data,columns=['SNo','Name','Occupation','Salary']))\n",
    "print()\n",
    "print(pd.DataFrame(data,columns=['SNo','Name','Occupation','Salary']).fillna(0))"
   ]
  },
  {
   "cell_type": "code",
   "execution_count": 84,
   "id": "22fb28fc-3604-4dd9-8459-ae1f11308745",
   "metadata": {},
   "outputs": [
    {
     "name": "stdout",
     "output_type": "stream",
     "text": [
      "     0      1          2        3\n",
      "0  100  Name1     Doctor  50000.0\n",
      "1  101  Name2       Engg      0.0\n",
      "2  102  Name3    Teacher  70000.0\n",
      "3  104  Name4  Astronaut      0.0\n",
      "4  105  Name5    Teacher  30000.0\n",
      "5  106  Name6     Doctor  70000.0\n",
      "6  107  Name7       Engg  45000.0\n",
      "7  108  Name8     Doctor      0.0\n"
     ]
    }
   ],
   "source": [
    "#OR\n",
    "\n",
    "print(pd.DataFrame(data).replace(np.nan,0))"
   ]
  },
  {
   "cell_type": "code",
   "execution_count": 92,
   "id": "9b031a1e-7054-4068-b286-96d48cecf43e",
   "metadata": {},
   "outputs": [
    {
     "name": "stdout",
     "output_type": "stream",
     "text": [
      "   SNo  cname  profit\n",
      "0  100  Name1   50000\n",
      "1  101  Name2   55000\n",
      "2  102  Name3  -70000\n",
      "3  104  Name4       0\n",
      "4  105  Name5   30000\n",
      "5  106  Name6   70000\n",
      "6  107  Name7   45000\n",
      "7  108  Name8   35000\n",
      "\n",
      "   SNo  cname  profit\n",
      "0  100  Name1    True\n",
      "1  101  Name2    True\n",
      "2  102  Name3   False\n",
      "3  104  Name4   False\n",
      "4  105  Name5    True\n",
      "5  106  Name6    True\n",
      "6  107  Name7    True\n",
      "7  108  Name8    True\n"
     ]
    }
   ],
   "source": [
    "#11. Given is a dataframe showing Company Names (cname)\n",
    "#and corresponding Profits (profit). \n",
    "#Convert the values of Profit column\n",
    "#such that values in it greater than 0 are set to True and the rest are set to False.\n",
    "\n",
    "c_data=[\n",
    "[100,'Name1',50000],\n",
    "[101,'Name2',55000],\n",
    "[102,'Name3',-70000],\n",
    "[104,'Name4',0],\n",
    "[105,'Name5',30000],\n",
    "[106,'Name6',70000],\n",
    "[107,'Name7',45000],\n",
    "[108,'Name8',35000]\n",
    "]\n",
    "\n",
    "c_data_df=(pd.DataFrame(c_data,columns=['SNo','cname','profit']))\n",
    "print(c_data_df)\n",
    "print()\n",
    "c_data_df['profit']=(c_data_df['profit'].apply(lambda x:x >0))\n",
    "print(c_data_df)"
   ]
  },
  {
   "cell_type": "code",
   "execution_count": 102,
   "id": "17998f29-b5b1-4263-a2d7-5adfd270e20b",
   "metadata": {},
   "outputs": [
    {
     "name": "stdout",
     "output_type": "stream",
     "text": [
      "   eid  ename  stipend\n",
      "0  100  Name1    50000\n",
      "1  101  Name2    55000\n",
      "2  102  Name3    70000\n",
      "3  104  Name4        0\n",
      "4  105  Name5    30000\n",
      "5  106  Name6    70000\n",
      "6  107  Name7    45000\n",
      "7  108  Name8    35000\n",
      "\n",
      "   eid                  designation\n",
      "0  100                      Manager\n",
      "1  101                       Deputy\n",
      "2  102             Regional Manager\n",
      "3  104  Ass to the Regional Manager\n",
      "4  105                          SDE\n",
      "5  106                         SDE2\n",
      "6  107                       Intern\n",
      "7  108                      Janitor\n",
      "\n",
      "Merged data from both dataframes:\n",
      "   eid  ename  stipend                  designation\n",
      "0  100  Name1    50000                      Manager\n",
      "1  101  Name2    55000                       Deputy\n",
      "2  102  Name3    70000             Regional Manager\n",
      "3  104  Name4        0  Ass to the Regional Manager\n",
      "4  105  Name5    30000                          SDE\n",
      "5  106  Name6    70000                         SDE2\n",
      "6  107  Name7    45000                       Intern\n",
      "7  108  Name8    35000                      Janitor\n"
     ]
    }
   ],
   "source": [
    "#12.Given are 2 dataframes, with one dataframe containing Employee ID (eid), Employee Name (ename) and Stipend (stipend) \n",
    "#and the other dataframe containing Employee ID (eid) and designation of the employee (designation). \n",
    "#Output the Dataframe containing Employee ID (eid), Employee Name (ename), Stipend (stipend) and Position (position).\n",
    "\n",
    "\n",
    "c_data1=[\n",
    "[100,'Name1',50000],\n",
    "[101,'Name2',55000],\n",
    "[102,'Name3',70000],\n",
    "[104,'Name4',0],\n",
    "[105,'Name5',30000],\n",
    "[106,'Name6',70000],\n",
    "[107,'Name7',45000],\n",
    "[108,'Name8',35000]\n",
    "]\n",
    "c_data2=[\n",
    "[100,'Manager'],\n",
    "[101,'Deputy'],\n",
    "[102,'Regional Manager'],\n",
    "[104,'Ass to the Regional Manager'],\n",
    "[105,'SDE'],\n",
    "[106,'SDE2',],\n",
    "[107,'Intern',],\n",
    "[108,'Janitor',]\n",
    "]\n",
    "df_cdata1=pd.DataFrame(c_data1,columns=['eid','ename','stipend'])\n",
    "print(df_cdata1)\n",
    "print()\n",
    "df_cdata2=pd.DataFrame(c_data2,columns=['eid','designation'])\n",
    "print(df_cdata2)\n",
    "\n",
    "print(\"\\nMerged data from both dataframes:\")\n",
    "merged_cdata=pd.merge(df_cdata1,df_cdata2,how=\"inner\",on=\"eid\")\n",
    "print(merged_cdata)\n"
   ]
  },
  {
   "cell_type": "code",
   "execution_count": null,
   "id": "e0761bd5-7a61-450e-a2b8-aa236907816c",
   "metadata": {},
   "outputs": [],
   "source": []
  }
 ],
 "metadata": {
  "kernelspec": {
   "display_name": "Python 3 (ipykernel)",
   "language": "python",
   "name": "python3"
  },
  "language_info": {
   "codemirror_mode": {
    "name": "ipython",
    "version": 3
   },
   "file_extension": ".py",
   "mimetype": "text/x-python",
   "name": "python",
   "nbconvert_exporter": "python",
   "pygments_lexer": "ipython3",
   "version": "3.10.4"
  }
 },
 "nbformat": 4,
 "nbformat_minor": 5
}
