{
 "cells": [
  {
   "cell_type": "code",
   "execution_count": null,
   "id": "6e3e3658-1b14-40d4-96c3-c63d2627e1cd",
   "metadata": {},
   "outputs": [],
   "source": [
    "#LAB 2"
   ]
  },
  {
   "cell_type": "code",
   "execution_count": 3,
   "id": "ffe9f933-9745-411a-ab4b-bee48fe12496",
   "metadata": {},
   "outputs": [],
   "source": [
    "import numpy as np"
   ]
  },
  {
   "cell_type": "code",
   "execution_count": 9,
   "id": "a04d98e6-ac87-4bd4-9c87-3087af85c691",
   "metadata": {},
   "outputs": [
    {
     "name": "stdin",
     "output_type": "stream",
     "text": [
      "Enter the number of rows\n",
      " 2\n",
      "Enter the number of columns\n",
      " 2\n"
     ]
    },
    {
     "name": "stdout",
     "output_type": "stream",
     "text": [
      "Enter the  4 entries in a single line (separated by space) of first matrix\n",
      " \n"
     ]
    },
    {
     "name": "stdin",
     "output_type": "stream",
     "text": [
      " 1 2 3 4\n"
     ]
    },
    {
     "name": "stdout",
     "output_type": "stream",
     "text": [
      "Enter the  4 entries in a single line (separated by space) of second matrix\n",
      " \n"
     ]
    },
    {
     "name": "stdin",
     "output_type": "stream",
     "text": [
      " 3 4 5 6\n"
     ]
    },
    {
     "name": "stdout",
     "output_type": "stream",
     "text": [
      "Matrix 1:\n",
      " [[1 2]\n",
      " [3 4]]\n",
      "Matrix 2:\n",
      " [[3 4]\n",
      " [5 6]]\n"
     ]
    }
   ],
   "source": [
    "R = int(input(\"Enter the number of rows\\n\"))\n",
    "C = int(input(\"Enter the number of columns\\n\"))\n",
    "k=C*R\n",
    "print(\"Enter the \",k,\"entries in a single line (separated by space) of first matrix\\n \")\n",
    "entries1 = list(map(int, input().split()))\n",
    "matrix1 = np.array(entries1).reshape(R, C)\n",
    "print(\"Enter the \",k,\"entries in a single line (separated by space) of second matrix\\n \")\n",
    "entries2 = list(map(int, input().split()))\n",
    "matrix2 = np.array(entries2).reshape(R, C)\n",
    "print(\"Matrix 1:\\n\",matrix1)\n",
    "print(\"Matrix 2:\\n\",matrix2)"
   ]
  },
  {
   "cell_type": "code",
   "execution_count": 10,
   "id": "d1ca2fa6-1e20-45bf-a506-aac889a7034a",
   "metadata": {},
   "outputs": [
    {
     "name": "stdout",
     "output_type": "stream",
     "text": [
      "dot product of two matrix is :\n",
      " [[13 16]\n",
      " [29 36]]\n"
     ]
    }
   ],
   "source": [
    "dot=np.dot(matrix1,matrix2)\n",
    "print(\"dot product of two matrix is :\\n\",dot)"
   ]
  },
  {
   "cell_type": "code",
   "execution_count": 11,
   "id": "f79c4a83-5ac0-47a3-9eca-47a204fbd4d5",
   "metadata": {},
   "outputs": [
    {
     "name": "stdout",
     "output_type": "stream",
     "text": [
      "transpose of dot product is :\n",
      " [[13 29]\n",
      " [16 36]]\n"
     ]
    }
   ],
   "source": [
    "print(\"transpose of dot product is :\\n\",np.transpose(dot))"
   ]
  },
  {
   "cell_type": "code",
   "execution_count": 12,
   "id": "d78772e8-6394-4217-9482-2c8ed962fe66",
   "metadata": {},
   "outputs": [
    {
     "name": "stdout",
     "output_type": "stream",
     "text": [
      "trace of dot product is :\n",
      " 49\n"
     ]
    }
   ],
   "source": [
    "print(\"trace of dot product is :\\n\",np.trace(dot))"
   ]
  },
  {
   "cell_type": "code",
   "execution_count": 13,
   "id": "5b2e3ce9-1257-4371-b993-3084624af44c",
   "metadata": {},
   "outputs": [
    {
     "name": "stdout",
     "output_type": "stream",
     "text": [
      "RANK of dot product is :\n",
      " 2\n"
     ]
    }
   ],
   "source": [
    "print(\"RANK of dot product is :\\n\",np.linalg.matrix_rank(dot))"
   ]
  },
  {
   "cell_type": "code",
   "execution_count": 19,
   "id": "25887d2d-9bef-4501-87ca-229bcc83cc9f",
   "metadata": {},
   "outputs": [
    {
     "name": "stdout",
     "output_type": "stream",
     "text": [
      "DETERMINANT of dot product is :\n",
      " 3\n"
     ]
    }
   ],
   "source": [
    "det=int(np.linalg.det(dot))\n",
    "print(\"DETERMINANT of dot product is :\\n\",det)"
   ]
  },
  {
   "cell_type": "code",
   "execution_count": null,
   "id": "16f26b5a-3e25-45f9-bd3f-de84e07e9189",
   "metadata": {},
   "outputs": [
    {
     "name": "stdout",
     "output_type": "stream",
     "text": [
      "Inverse of dot product is :\n",
      " [[ 9.   -4.  ]\n",
      " [-7.25  3.25]]\n"
     ]
    }
   ],
   "source": [
    "print(\"Inverse of dot product is :\\n\",np.linalg.inv(dot))"
   ]
  },
  {
   "cell_type": "code",
   "execution_count": 23,
   "id": "7fb658ac-c0da-4405-9409-62bd405ece4f",
   "metadata": {},
   "outputs": [
    {
     "name": "stdout",
     "output_type": "stream",
     "text": [
      "Eigenvalues of dot product is :\n",
      " [ 0.08176911 48.91823089]\n",
      "Eigenvectors of dot product is :\n",
      " [[-0.77805636 -0.40691011]\n",
      " [ 0.62819448 -0.91346821]]\n"
     ]
    }
   ],
   "source": [
    "evalue,evect=np.linalg.eig(dot)\n",
    "print(\"Eigenvalues of dot product is :\\n\",evalue)\n",
    "print(\"Eigenvectors of dot product is :\\n\",evect)"
   ]
  },
  {
   "cell_type": "code",
   "execution_count": null,
   "id": "468fd7d4-0c23-4201-a9d0-11abb8898d51",
   "metadata": {},
   "outputs": [],
   "source": []
  }
 ],
 "metadata": {
  "kernelspec": {
   "display_name": "Python 3 (ipykernel)",
   "language": "python",
   "name": "python3"
  },
  "language_info": {
   "codemirror_mode": {
    "name": "ipython",
    "version": 3
   },
   "file_extension": ".py",
   "mimetype": "text/x-python",
   "name": "python",
   "nbconvert_exporter": "python",
   "pygments_lexer": "ipython3",
   "version": "3.8.0"
  }
 },
 "nbformat": 4,
 "nbformat_minor": 5
}
