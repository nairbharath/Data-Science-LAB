{
 "cells": [
  {
   "cell_type": "code",
   "execution_count": 1,
   "id": "f1ef5d12",
   "metadata": {},
   "outputs": [
    {
     "name": "stdout",
     "output_type": "stream",
     "text": [
      "2\n"
     ]
    }
   ],
   "source": [
    "print(2)\n"
   ]
  },
  {
   "cell_type": "code",
   "execution_count": null,
   "id": "782125a1",
   "metadata": {},
   "outputs": [],
   "source": [
    "for i in 10:\n",
    "    print(\"DOPE\")"
   ]
  },
  {
   "cell_type": "code",
   "execution_count": 6,
   "id": "5a4a613d",
   "metadata": {},
   "outputs": [],
   "source": [
    "import numpy as np"
   ]
  },
  {
   "cell_type": "code",
   "execution_count": 7,
   "id": "643b730d",
   "metadata": {},
   "outputs": [
    {
     "name": "stdout",
     "output_type": "stream",
     "text": [
      "[1 2 3]\n"
     ]
    }
   ],
   "source": [
    "print(np.array([1,2,3]))"
   ]
  },
  {
   "cell_type": "code",
   "execution_count": 9,
   "id": "3f1c9a20",
   "metadata": {},
   "outputs": [
    {
     "name": "stdout",
     "output_type": "stream",
     "text": [
      "[1. 2. 3.]\n"
     ]
    }
   ],
   "source": [
    "print(np.array([1,2,3.0]))"
   ]
  },
  {
   "cell_type": "code",
   "execution_count": 15,
   "id": "1da8f9c0",
   "metadata": {},
   "outputs": [
    {
     "ename": "SyntaxError",
     "evalue": "invalid syntax (<ipython-input-15-7a9fda8f9f37>, line 1)",
     "output_type": "error",
     "traceback": [
      "\u001b[0;36m  File \u001b[0;32m\"<ipython-input-15-7a9fda8f9f37>\"\u001b[0;36m, line \u001b[0;32m1\u001b[0m\n\u001b[0;31m    print(np.array([[1,2],, end=\" \", [3,4]]))\u001b[0m\n\u001b[0m                          ^\u001b[0m\n\u001b[0;31mSyntaxError\u001b[0m\u001b[0;31m:\u001b[0m invalid syntax\n"
     ]
    }
   ],
   "source": [
    "print(np.array([[1,2],, end=\" \", [3,4]]))"
   ]
  },
  {
   "cell_type": "code",
   "execution_count": 23,
   "id": "a51df8e8",
   "metadata": {},
   "outputs": [],
   "source": [
    "a=np.array([1,2,3,4,5])\n",
    "b=np.array([1,2,3,6,7])\n",
    "\n"
   ]
  },
  {
   "cell_type": "code",
   "execution_count": 28,
   "id": "c4df36dc",
   "metadata": {},
   "outputs": [
    {
     "data": {
      "text/plain": [
       "array([ True,  True,  True, False, False])"
      ]
     },
     "execution_count": 28,
     "metadata": {},
     "output_type": "execute_result"
    }
   ],
   "source": [
    "a==b"
   ]
  },
  {
   "cell_type": "code",
   "execution_count": 29,
   "id": "1bee17de",
   "metadata": {},
   "outputs": [
    {
     "data": {
      "text/plain": [
       "array([False, False, False,  True,  True])"
      ]
     },
     "execution_count": 29,
     "metadata": {},
     "output_type": "execute_result"
    }
   ],
   "source": [
    "a<b"
   ]
  },
  {
   "cell_type": "code",
   "execution_count": 25,
   "id": "d12a0966",
   "metadata": {},
   "outputs": [
    {
     "data": {
      "text/plain": [
       "array([ True,  True,  True,  True,  True])"
      ]
     },
     "execution_count": 25,
     "metadata": {},
     "output_type": "execute_result"
    }
   ],
   "source": [
    "a<=b"
   ]
  },
  {
   "cell_type": "code",
   "execution_count": 26,
   "id": "e45196fc",
   "metadata": {},
   "outputs": [
    {
     "data": {
      "text/plain": [
       "array([False, False, False, False, False])"
      ]
     },
     "execution_count": 26,
     "metadata": {},
     "output_type": "execute_result"
    }
   ],
   "source": [
    "a>b"
   ]
  },
  {
   "cell_type": "code",
   "execution_count": 27,
   "id": "88426530",
   "metadata": {},
   "outputs": [
    {
     "data": {
      "text/plain": [
       "array([ True,  True,  True, False, False])"
      ]
     },
     "execution_count": 27,
     "metadata": {},
     "output_type": "execute_result"
    }
   ],
   "source": [
    "a>=b"
   ]
  },
  {
   "cell_type": "code",
   "execution_count": 41,
   "id": "2c4fa1b7",
   "metadata": {},
   "outputs": [
    {
     "name": "stdout",
     "output_type": "stream",
     "text": [
      "[30 32 34 36 38 40 42 44 46 48 50 52 54 56 58 60 62 64 66 68 70]\n"
     ]
    }
   ],
   "source": [
    "print(np.arange(30,70+1,2))"
   ]
  },
  {
   "cell_type": "code",
   "execution_count": 33,
   "id": "10f7803c",
   "metadata": {},
   "outputs": [
    {
     "name": "stdout",
     "output_type": "stream",
     "text": [
      "[1 2 3 4 5]\n",
      "[1 2 3 6 7]\n"
     ]
    }
   ],
   "source": [
    "for x in (a,b):\n",
    "    print(x)"
   ]
  },
  {
   "cell_type": "code",
   "execution_count": 35,
   "id": "649c48ee",
   "metadata": {},
   "outputs": [
    {
     "name": "stdout",
     "output_type": "stream",
     "text": [
      "30\n",
      "32\n",
      "34\n",
      "36\n",
      "38\n",
      "40\n",
      "42\n",
      "44\n",
      "46\n",
      "48\n",
      "50\n",
      "52\n",
      "54\n",
      "56\n",
      "58\n",
      "60\n",
      "62\n",
      "64\n",
      "66\n",
      "68\n",
      "70\n"
     ]
    }
   ],
   "source": [
    "for x in range(30,70 +1):\n",
    "    if(x%2==0):\n",
    "        print(x)"
   ]
  },
  {
   "cell_type": "code",
   "execution_count": 36,
   "id": "c76d26f6",
   "metadata": {},
   "outputs": [
    {
     "name": "stdout",
     "output_type": "stream",
     "text": [
      "(2, 2, 2, 2, 4)\n"
     ]
    }
   ],
   "source": [
    "import numpy as np\n",
    "\n",
    "arr = np.array([\n",
    "[\n",
    "[[[1, 2, 3, 4], [5, 6, 7, 8]]\n",
    ",\n",
    "[[1, 2, 3, 4], [5, 6, 7, 8]]]\n",
    ",\n",
    "[[[1, 2, 3, 4], [5, 6, 7, 8]]\n",
    ",\n",
    "[[1, 2, 3, 4], [5, 6, 7, 8]]]\n",
    "],\n",
    "[\n",
    "[[[1, 2, 3, 4], [5, 6, 7, 8]]\n",
    ",\n",
    "[[1, 2, 3, 4], [5, 6, 7, 8]]]\n",
    ",\n",
    "[[[1, 2, 3, 4], [5, 6, 7, 8]]\n",
    ",\n",
    "[[1, 2, 3, 4], [5, 6, 7, 8]]]\n",
    "]\n",
    "])\n",
    "\n",
    "print(arr.shape)"
   ]
  },
  {
   "cell_type": "code",
   "execution_count": 49,
   "id": "51a913c3",
   "metadata": {},
   "outputs": [
    {
     "name": "stdout",
     "output_type": "stream",
     "text": [
      "[1 0 0]\n",
      "[0 1 0]\n",
      "[0 0 1]\n"
     ]
    }
   ],
   "source": [
    "a1=np.array([1,0,0])\n",
    "a2=np.array([0,1,0])\n",
    "a3=np.array([0,0,1])\n",
    "for i in (a1,a2,a3):\n",
    "    print(i)"
   ]
  },
  {
   "cell_type": "code",
   "execution_count": 77,
   "id": "df72d360",
   "metadata": {},
   "outputs": [
    {
     "name": "stdout",
     "output_type": "stream",
     "text": [
      "[[1 0 0]\n",
      " [0 1 0]\n",
      " [0 0 1]]\n"
     ]
    }
   ],
   "source": [
    "arr_33=np.identity(3,dtype=\"int64\")\n",
    "print(arr_33)"
   ]
  },
  {
   "cell_type": "code",
   "execution_count": 54,
   "id": "2a50c8d7",
   "metadata": {},
   "outputs": [
    {
     "name": "stdout",
     "output_type": "stream",
     "text": [
      "[[1 0 0 0 0]\n",
      " [0 1 0 0 0]\n",
      " [0 0 1 0 0]\n",
      " [0 0 0 1 0]\n",
      " [0 0 0 0 1]]\n"
     ]
    }
   ],
   "source": [
    "arr_55=np.identity(5,dtype=\"int64\")\n",
    "print(arr_55)"
   ]
  },
  {
   "cell_type": "code",
   "execution_count": 47,
   "id": "9c9d7823",
   "metadata": {},
   "outputs": [
    {
     "name": "stdout",
     "output_type": "stream",
     "text": [
      "[[0 1 2]\n",
      " [3 4 5]\n",
      " [6 7 8]]\n"
     ]
    }
   ],
   "source": [
    "\n",
    "x =  np.arange(0,8+1).reshape(3,3)\n",
    "print(x)"
   ]
  },
  {
   "cell_type": "code",
   "execution_count": 63,
   "id": "8ba63944",
   "metadata": {},
   "outputs": [
    {
     "name": "stdout",
     "output_type": "stream",
     "text": [
      "[  0   1   2   3   4   5   6   7   8  -9 -10 -11 -12 -13 -14 -15  16  17\n",
      "  18  19  20]\n"
     ]
    }
   ],
   "source": [
    "#4. \n",
    "vec=np.arange(21)\n",
    "vec[ (vec>=9) & (vec<=15) ] *= -1\n",
    "print(vec)"
   ]
  },
  {
   "cell_type": "code",
   "execution_count": 71,
   "id": "5d2371d1",
   "metadata": {},
   "outputs": [
    {
     "name": "stdout",
     "output_type": "stream",
     "text": [
      "[[1 0 0 0 0]\n",
      " [0 2 0 0 0]\n",
      " [0 0 3 0 0]\n",
      " [0 0 0 4 0]\n",
      " [0 0 0 0 5]]\n"
     ]
    }
   ],
   "source": [
    "#5.\n",
    "vec=np.diag([1,2,3,4,5])\n",
    "print(vec)"
   ]
  },
  {
   "cell_type": "code",
   "execution_count": 83,
   "id": "cde13c24",
   "metadata": {},
   "outputs": [
    {
     "name": "stdout",
     "output_type": "stream",
     "text": [
      "[[0 1 2]\n",
      " [3 4 5]\n",
      " [6 7 8]]\n",
      "36\n",
      "[ 3 12 21]\n",
      "[ 9 12 15]\n"
     ]
    }
   ],
   "source": [
    "#6\n",
    "vec=np.arange(9).reshape(3,3)\n",
    "print(vec)\n",
    "sum1=np.sum(vec)\n",
    "print(sum1)\n",
    "rows1=np.sum(vec,axis=1)\n",
    "print(rows1)\n",
    "rows2=np.sum(vec,axis=0)\n",
    "print(rows2)"
   ]
  },
  {
   "cell_type": "code",
   "execution_count": 106,
   "id": "b4c67e64",
   "metadata": {},
   "outputs": [
    {
     "name": "stdout",
     "output_type": "stream",
     "text": [
      "Not equal\n"
     ]
    }
   ],
   "source": [
    "#8\n",
    "aa=np.array([2,3,4,5])\n",
    "ab=np.array([3,4,5,6])\n",
    "\n",
    "ac=np.array_equal(aa,ab)\n",
    "\n",
    "if (ac==\"True\"):\n",
    "    print(\"Equal\")\n",
    "else:\n",
    "    print(\"Not equal\")"
   ]
  },
  {
   "cell_type": "code",
   "execution_count": 112,
   "id": "517d00fb",
   "metadata": {},
   "outputs": [
    {
     "name": "stdout",
     "output_type": "stream",
     "text": [
      "False\n",
      "True\n"
     ]
    }
   ],
   "source": [
    "aa=np.array([2,3,4,5])\n",
    "ab=np.array([3,4,5,6])\n",
    "ac=np.array([2,3,4.00001,5])\n",
    "\n",
    "print(np.allclose(aa,ab))\n",
    "print(np.allclose(aa,ac))\n",
    "#allclose=calculates if aa and ac is within the accepted tolerance limit\n"
   ]
  },
  {
   "cell_type": "code",
   "execution_count": null,
   "id": "81e52962",
   "metadata": {},
   "outputs": [],
   "source": []
  },
  {
   "cell_type": "code",
   "execution_count": 113,
   "id": "fb4234a5",
   "metadata": {},
   "outputs": [
    {
     "name": "stdout",
     "output_type": "stream",
     "text": [
      "[1 2 3 4 5]\n",
      "\n",
      " [1 2 3 4 5]\n"
     ]
    }
   ],
   "source": [
    "#7\n",
    "\n",
    "arr=np.array([1,2,3,4,5])\n",
    "print(arr)\n",
    "file=open(\"file.txt\",\"w+\")\n",
    "\n",
    "file_content=str(arr)\n",
    "file.write(file_content)\n",
    "file.close()\n",
    "\n",
    "file=open(\"file.txt\",\"r\")\n",
    "file_content=file.read()\n",
    "\n",
    "print(\"\\n\", file_content)\n",
    "file.close()"
   ]
  },
  {
   "cell_type": "code",
   "execution_count": 132,
   "id": "b6b5a600",
   "metadata": {},
   "outputs": [
    {
     "name": "stdout",
     "output_type": "stream",
     "text": [
      "[[ 0  1  2  3]\n",
      " [ 4  5  6  7]\n",
      " [ 8  9 10 11]\n",
      " [12 13 14 15]]\n"
     ]
    }
   ],
   "source": [
    "#9\n",
    "swap=np.arange(16).reshape(4,4)\n",
    "print(swap)\n"
   ]
  },
  {
   "cell_type": "code",
   "execution_count": 131,
   "id": "e1062d81",
   "metadata": {},
   "outputs": [
    {
     "name": "stdout",
     "output_type": "stream",
     "text": [
      "\n",
      "After swapping first and last rows:\n",
      "\n",
      "[[12 13 14 15]\n",
      " [ 4  5  6  7]\n",
      " [ 8  9 10 11]\n",
      " [ 0  1  2  3]]\n"
     ]
    }
   ],
   "source": [
    "swap[[0,3]]=swap[[3,0]]\n",
    "print(\"\\nAfter swapping first and last rows:\\n\")\n",
    "print(swap)"
   ]
  },
  {
   "cell_type": "code",
   "execution_count": 133,
   "id": "65c3bac6",
   "metadata": {},
   "outputs": [
    {
     "name": "stdout",
     "output_type": "stream",
     "text": [
      "[[ 1  2  3  0]\n",
      " [ 5  6  7  4]\n",
      " [ 9 10 11  8]\n",
      " [13 14 15 12]]\n"
     ]
    }
   ],
   "source": [
    "swap=np.roll(swap,-1,axis=1)\n",
    "print(swap)"
   ]
  },
  {
   "cell_type": "code",
   "execution_count": 134,
   "id": "eb2c922d",
   "metadata": {},
   "outputs": [
    {
     "name": "stdout",
     "output_type": "stream",
     "text": [
      "[[ 1  4  9 16 25]\n",
      " [ 4  9 16 25 36]]\n"
     ]
    }
   ],
   "source": [
    "a=np.array([[1,2,3,4,5],[2,3,4,5,6]])\n",
    "b=np.array([[1,2,3,4,5],[2,3,4,5,6]])\n",
    "mul=np.multiply(a,b)\n",
    "print(mul)"
   ]
  },
  {
   "cell_type": "code",
   "execution_count": null,
   "id": "72833e9f",
   "metadata": {},
   "outputs": [],
   "source": []
  }
 ],
 "metadata": {
  "kernelspec": {
   "display_name": "Python 3",
   "language": "python",
   "name": "python3"
  },
  "language_info": {
   "codemirror_mode": {
    "name": "ipython",
    "version": 3
   },
   "file_extension": ".py",
   "mimetype": "text/x-python",
   "name": "python",
   "nbconvert_exporter": "python",
   "pygments_lexer": "ipython3",
   "version": "3.5.6"
  }
 },
 "nbformat": 4,
 "nbformat_minor": 5
}
